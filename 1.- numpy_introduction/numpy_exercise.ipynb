{
 "cells": [
  {
   "cell_type": "markdown",
   "id": "10ab6f70",
   "metadata": {},
   "source": [
    "## Introduction to Numpy\n",
    "\n",
    "#### **Name:** Adiel Nefthali Delgado Silva\n"
   ]
  },
  {
   "cell_type": "markdown",
   "id": "cb7056d7",
   "metadata": {},
   "source": [
    "#### Import numpy"
   ]
  },
  {
   "cell_type": "code",
   "execution_count": 1,
   "id": "4de0cf3f",
   "metadata": {},
   "outputs": [],
   "source": [
    "import numpy as np"
   ]
  },
  {
   "cell_type": "code",
   "execution_count": null,
   "id": "2eb5d611",
   "metadata": {},
   "outputs": [],
   "source": []
  },
  {
   "cell_type": "markdown",
   "id": "4d8550aa",
   "metadata": {},
   "source": [
    "#### Numpy operations\n",
    "1.- Create array a with values from 1-5 \\\n",
    "2.- create an array b with values from 6 - 10"
   ]
  },
  {
   "cell_type": "code",
   "execution_count": 5,
   "id": "7b8cdb38",
   "metadata": {},
   "outputs": [],
   "source": [
    "a = np.arange(1,6)\n",
    "b = np.arange(6,11)"
   ]
  },
  {
   "cell_type": "code",
   "execution_count": 7,
   "id": "ebbc17d3",
   "metadata": {},
   "outputs": [
    {
     "data": {
      "text/plain": [
       "[1, 2, 3, 4, 5]"
      ]
     },
     "execution_count": 7,
     "metadata": {},
     "output_type": "execute_result"
    }
   ],
   "source": [
    "\n",
    "lista = [1, 2, 3, 4, 5]\n",
    "lista"
   ]
  },
  {
   "cell_type": "code",
   "execution_count": 6,
   "id": "9a131ac3",
   "metadata": {},
   "outputs": [
    {
     "data": {
      "text/plain": [
       "[1, 2, 3, 4, 5]"
      ]
     },
     "execution_count": 6,
     "metadata": {},
     "output_type": "execute_result"
    }
   ],
   "source": [
    "lista = [i for i in range(1,6)]\n",
    "lista"
   ]
  },
  {
   "cell_type": "markdown",
   "id": "1b1c7c38",
   "metadata": {},
   "source": [
    "#### Matrix Operations with numpy\n",
    "\n",
    "1. Create a 3x3 matrix in numpy with the following values: \n",
    "\n",
    "⎡ 1  2  3 ⎤ \\\n",
    "⎢ 4  5  6 ⎥ \\\n",
    "⎣ 7  8  9 ⎦ \n",
    "\n",
    "2.- Transpose the matrix and save it into a transpose variable \\\n",
    "3.- Add both matrix \\\n",
    "4.- Multiply both matrix\n",
    "\n"
   ]
  },
  {
   "cell_type": "markdown",
   "id": "5ea8d667",
   "metadata": {},
   "source": [
    "1.-"
   ]
  },
  {
   "cell_type": "code",
   "execution_count": 12,
   "id": "439c836d",
   "metadata": {},
   "outputs": [
    {
     "data": {
      "text/plain": [
       "array([[1, 2, 3],\n",
       "       [4, 5, 6],\n",
       "       [7, 8, 9]])"
      ]
     },
     "execution_count": 12,
     "metadata": {},
     "output_type": "execute_result"
    }
   ],
   "source": [
    "matrix = np.array([[1,2,3], [4,5,6], [7,8,9]])\n",
    "matrix"
   ]
  },
  {
   "cell_type": "markdown",
   "id": "eb7b9aa2",
   "metadata": {},
   "source": [
    "2.-\n"
   ]
  },
  {
   "cell_type": "code",
   "execution_count": 13,
   "id": "6d486970",
   "metadata": {},
   "outputs": [
    {
     "data": {
      "text/plain": [
       "array([[1, 4, 7],\n",
       "       [2, 5, 8],\n",
       "       [3, 6, 9]])"
      ]
     },
     "execution_count": 13,
     "metadata": {},
     "output_type": "execute_result"
    }
   ],
   "source": [
    "Transpose = matrix.T\n",
    "Transpose\n",
    "#Shape te dice los valores que contiene el array, tipo cuantas filas y columnas tiene\n",
    "#Transpose.shape\n"
   ]
  },
  {
   "cell_type": "markdown",
   "id": "568990c2",
   "metadata": {},
   "source": [
    "3.-"
   ]
  },
  {
   "cell_type": "code",
   "execution_count": 14,
   "id": "5de11215",
   "metadata": {},
   "outputs": [
    {
     "data": {
      "text/plain": [
       "array([[ 2,  6, 10],\n",
       "       [ 6, 10, 14],\n",
       "       [10, 14, 18]])"
      ]
     },
     "execution_count": 14,
     "metadata": {},
     "output_type": "execute_result"
    }
   ],
   "source": [
    "sum = matrix + Transpose\n",
    "sum"
   ]
  },
  {
   "cell_type": "markdown",
   "id": "5ed20a99",
   "metadata": {},
   "source": [
    "4.-"
   ]
  },
  {
   "cell_type": "code",
   "execution_count": 15,
   "id": "a0bc07fd",
   "metadata": {},
   "outputs": [
    {
     "data": {
      "text/plain": [
       "array([[ 14,  32,  50],\n",
       "       [ 32,  77, 122],\n",
       "       [ 50, 122, 194]])"
      ]
     },
     "execution_count": 15,
     "metadata": {},
     "output_type": "execute_result"
    }
   ],
   "source": [
    "multi = matrix @ Transpose\n",
    "multi"
   ]
  },
  {
   "cell_type": "markdown",
   "id": "0c6641d6",
   "metadata": {},
   "source": [
    "#### numpy indexing\n",
    "\n",
    "1.- Create a numpy array [10, 20, 30, 40, 50, 60] \\\n",
    "2.- print second and last index \\\n",
    "3.- print elements 1-3 \\\n",
    "4.- print all but the first 2 elements \\\n",
    "5.- reshape the array to be a 2x3 matrix "
   ]
  },
  {
   "cell_type": "markdown",
   "id": "265ed6c6",
   "metadata": {},
   "source": [
    "1.-"
   ]
  },
  {
   "cell_type": "code",
   "execution_count": 16,
   "id": "3fcfaa53",
   "metadata": {},
   "outputs": [
    {
     "data": {
      "text/plain": [
       "array([10, 20, 30, 40, 50, 60])"
      ]
     },
     "execution_count": 16,
     "metadata": {},
     "output_type": "execute_result"
    }
   ],
   "source": [
    "arr = np.array([10,20,30,40,50,60])\n",
    "arr"
   ]
  },
  {
   "cell_type": "markdown",
   "id": "eee0c033",
   "metadata": {},
   "source": [
    "2.-"
   ]
  },
  {
   "cell_type": "code",
   "execution_count": 17,
   "id": "d7ccc8f9",
   "metadata": {},
   "outputs": [
    {
     "data": {
      "text/plain": [
       "np.int64(20)"
      ]
     },
     "execution_count": 17,
     "metadata": {},
     "output_type": "execute_result"
    }
   ],
   "source": [
    "arr[1]"
   ]
  },
  {
   "cell_type": "code",
   "execution_count": 18,
   "id": "d544f1b9",
   "metadata": {},
   "outputs": [
    {
     "data": {
      "text/plain": [
       "np.int64(60)"
      ]
     },
     "execution_count": 18,
     "metadata": {},
     "output_type": "execute_result"
    }
   ],
   "source": [
    "arr[-1]"
   ]
  },
  {
   "cell_type": "markdown",
   "id": "161aead9",
   "metadata": {},
   "source": [
    "3.-"
   ]
  },
  {
   "cell_type": "code",
   "execution_count": 20,
   "id": "d95f4e8c",
   "metadata": {},
   "outputs": [
    {
     "data": {
      "text/plain": [
       "array([10, 20, 30])"
      ]
     },
     "execution_count": 20,
     "metadata": {},
     "output_type": "execute_result"
    }
   ],
   "source": [
    "arr[0:3]"
   ]
  },
  {
   "cell_type": "markdown",
   "id": "3d86933d",
   "metadata": {},
   "source": [
    "4.-"
   ]
  },
  {
   "cell_type": "code",
   "execution_count": 21,
   "id": "9b11da22",
   "metadata": {},
   "outputs": [
    {
     "data": {
      "text/plain": [
       "array([30, 40, 50, 60])"
      ]
     },
     "execution_count": 21,
     "metadata": {},
     "output_type": "execute_result"
    }
   ],
   "source": [
    "arr[2:]"
   ]
  },
  {
   "cell_type": "markdown",
   "id": "cb72bd6d",
   "metadata": {},
   "source": [
    "5.-"
   ]
  },
  {
   "cell_type": "code",
   "execution_count": 22,
   "id": "8f363e69",
   "metadata": {},
   "outputs": [
    {
     "data": {
      "text/plain": [
       "array([[10, 20, 30],\n",
       "       [40, 50, 60]])"
      ]
     },
     "execution_count": 22,
     "metadata": {},
     "output_type": "execute_result"
    }
   ],
   "source": [
    "arr.reshape(2, 3)"
   ]
  },
  {
   "cell_type": "markdown",
   "id": "013209d7",
   "metadata": {},
   "source": [
    "#### Creating random arrays\n",
    "1- Create a 3x3 matrix with random numbers. \\\n",
    "2.- Create a 2x3 matrix with random integers.\n"
   ]
  },
  {
   "cell_type": "markdown",
   "id": "cfe348e2",
   "metadata": {},
   "source": [
    "1.-"
   ]
  },
  {
   "cell_type": "code",
   "execution_count": 23,
   "id": "61f38312",
   "metadata": {},
   "outputs": [
    {
     "data": {
      "text/plain": [
       "array([[0.77736441, 0.8800917 , 0.62374608],\n",
       "       [0.65974882, 0.02604283, 0.40942959],\n",
       "       [0.10790198, 0.84073032, 0.03184002]])"
      ]
     },
     "execution_count": 23,
     "metadata": {},
     "output_type": "execute_result"
    }
   ],
   "source": [
    "\n",
    "random_array = np.random.rand(3,3)\n",
    "random_array"
   ]
  },
  {
   "cell_type": "markdown",
   "id": "36184b20",
   "metadata": {},
   "source": [
    "2.-"
   ]
  },
  {
   "cell_type": "code",
   "execution_count": 24,
   "id": "989760ee",
   "metadata": {},
   "outputs": [
    {
     "data": {
      "text/plain": [
       "array([[7, 9, 2],\n",
       "       [3, 7, 8],\n",
       "       [8, 2, 7]], dtype=int32)"
      ]
     },
     "execution_count": 24,
     "metadata": {},
     "output_type": "execute_result"
    }
   ],
   "source": [
    "random_array_int = np.random.randint(0,10, size=[3,3])\n",
    "random_array_int"
   ]
  },
  {
   "cell_type": "markdown",
   "id": "44a70654",
   "metadata": {},
   "source": [
    "#### Boolean Indexing and Filtering\n",
    "1.- Generate a random dataset in a 5x5 matrixs filled with integers from 1-50. \\\n",
    "2.- Filter the values that are bigger than 25 and replace them with 0. \\\n",
    "3.- Calculate the basic statisticañ dispersion and tendency meassurements."
   ]
  },
  {
   "cell_type": "markdown",
   "id": "129db6fb",
   "metadata": {},
   "source": [
    "1.-"
   ]
  },
  {
   "cell_type": "code",
   "execution_count": 25,
   "id": "2ca92c15",
   "metadata": {},
   "outputs": [
    {
     "data": {
      "text/plain": [
       "array([[49, 19, 17, 43, 24],\n",
       "       [ 2, 15, 37, 39, 26],\n",
       "       [ 6, 24, 33, 38, 20],\n",
       "       [14, 35, 50,  4, 26],\n",
       "       [43, 43, 42, 37, 37]], dtype=int32)"
      ]
     },
     "execution_count": 25,
     "metadata": {},
     "output_type": "execute_result"
    }
   ],
   "source": [
    "dataset = np.random.randint(1,51, size=[5,5])\n",
    "dataset"
   ]
  },
  {
   "cell_type": "markdown",
   "id": "9054d4db",
   "metadata": {},
   "source": [
    "2.-"
   ]
  },
  {
   "cell_type": "code",
   "execution_count": 26,
   "id": "770293b9",
   "metadata": {},
   "outputs": [
    {
     "data": {
      "text/plain": [
       "array([[ 0, 19, 17,  0, 24],\n",
       "       [ 2, 15,  0,  0,  0],\n",
       "       [ 6, 24,  0,  0, 20],\n",
       "       [14,  0,  0,  4,  0],\n",
       "       [ 0,  0,  0,  0,  0]], dtype=int32)"
      ]
     },
     "execution_count": 26,
     "metadata": {},
     "output_type": "execute_result"
    }
   ],
   "source": [
    "dataset[dataset > 25] = 0\n",
    "dataset"
   ]
  },
  {
   "cell_type": "markdown",
   "id": "4f063210",
   "metadata": {},
   "source": [
    "3.-"
   ]
  },
  {
   "cell_type": "code",
   "execution_count": 27,
   "id": "addf820c",
   "metadata": {},
   "outputs": [
    {
     "data": {
      "text/plain": [
       "np.float64(8.574380444090407)"
      ]
     },
     "execution_count": 27,
     "metadata": {},
     "output_type": "execute_result"
    }
   ],
   "source": [
    "np.std(dataset)"
   ]
  },
  {
   "cell_type": "code",
   "execution_count": 28,
   "id": "469a37e7",
   "metadata": {},
   "outputs": [
    {
     "data": {
      "text/plain": [
       "np.float64(5.8)"
      ]
     },
     "execution_count": 28,
     "metadata": {},
     "output_type": "execute_result"
    }
   ],
   "source": [
    "np.mean(dataset)"
   ]
  },
  {
   "cell_type": "code",
   "execution_count": 29,
   "id": "95361a31",
   "metadata": {},
   "outputs": [
    {
     "data": {
      "text/plain": [
       "np.float64(0.0)"
      ]
     },
     "execution_count": 29,
     "metadata": {},
     "output_type": "execute_result"
    }
   ],
   "source": [
    "np.median(dataset)"
   ]
  },
  {
   "cell_type": "code",
   "execution_count": 30,
   "id": "21fb49a1",
   "metadata": {},
   "outputs": [
    {
     "data": {
      "text/plain": [
       "np.float64(73.52)"
      ]
     },
     "execution_count": 30,
     "metadata": {},
     "output_type": "execute_result"
    }
   ],
   "source": [
    "np.var(dataset)"
   ]
  },
  {
   "cell_type": "markdown",
   "id": "7a97908f",
   "metadata": {},
   "source": [
    "#### Homework exercise numpy\n",
    "\n",
    "⎡ 2  3 ⎤ \\\n",
    "⎣ 0  1 ⎦ \n",
    "\n",
    "\n",
    "⎡ 1  2 ⎤  \n",
    "⎣ 4  0 ⎦ \n",
    "\n",
    "1. The product\n",
    "2. Product's transpose.\n",
    "3. Determinant of the product\n",
    "4. The inverse of the product."
   ]
  },
  {
   "cell_type": "markdown",
   "id": "8fe5819c",
   "metadata": {},
   "source": [
    "1.-"
   ]
  },
  {
   "cell_type": "code",
   "execution_count": null,
   "id": "46b9f778",
   "metadata": {},
   "outputs": [
    {
     "data": {
      "text/plain": [
       "array([[1, 2],\n",
       "       [4, 0]])"
      ]
     },
     "execution_count": 34,
     "metadata": {},
     "output_type": "execute_result"
    }
   ],
   "source": [
    "A = np.array([[2,3],[0,1]])\n",
    "B = np.array([[1,2],[4,0]])"
   ]
  },
  {
   "cell_type": "code",
   "execution_count": 37,
   "id": "1ab68367",
   "metadata": {},
   "outputs": [
    {
     "data": {
      "text/plain": [
       "array([[2, 6],\n",
       "       [0, 0]])"
      ]
     },
     "execution_count": 37,
     "metadata": {},
     "output_type": "execute_result"
    }
   ],
   "source": [
    "A*B"
   ]
  },
  {
   "cell_type": "code",
   "execution_count": 38,
   "id": "402654c9",
   "metadata": {},
   "outputs": [
    {
     "data": {
      "text/plain": [
       "array([[14,  4],\n",
       "       [ 4,  0]])"
      ]
     },
     "execution_count": 38,
     "metadata": {},
     "output_type": "execute_result"
    }
   ],
   "source": [
    "C = A@B\n",
    "C"
   ]
  },
  {
   "cell_type": "markdown",
   "id": "0ff9b4f9",
   "metadata": {},
   "source": [
    "2.-"
   ]
  },
  {
   "cell_type": "code",
   "execution_count": 39,
   "id": "d1448e6c",
   "metadata": {},
   "outputs": [
    {
     "data": {
      "text/plain": [
       "array([[14,  4],\n",
       "       [ 4,  0]])"
      ]
     },
     "execution_count": 39,
     "metadata": {},
     "output_type": "execute_result"
    }
   ],
   "source": [
    "transpose = C.T\n",
    "transpose"
   ]
  },
  {
   "cell_type": "markdown",
   "id": "f9d647f7",
   "metadata": {},
   "source": [
    "3.-"
   ]
  },
  {
   "cell_type": "code",
   "execution_count": 40,
   "id": "a99b81f2",
   "metadata": {},
   "outputs": [
    {
     "data": {
      "text/plain": [
       "np.float64(-15.999999999999998)"
      ]
     },
     "execution_count": 40,
     "metadata": {},
     "output_type": "execute_result"
    }
   ],
   "source": [
    "Determinante = np.linalg.det(C)\n",
    "Determinante"
   ]
  },
  {
   "cell_type": "markdown",
   "id": "38854802",
   "metadata": {},
   "source": [
    "4.-"
   ]
  },
  {
   "cell_type": "code",
   "execution_count": 41,
   "id": "849e9250",
   "metadata": {},
   "outputs": [
    {
     "data": {
      "text/plain": [
       "array([[ 0.   ,  0.25 ],\n",
       "       [ 0.25 , -0.875]])"
      ]
     },
     "execution_count": 41,
     "metadata": {},
     "output_type": "execute_result"
    }
   ],
   "source": [
    "inverse = np.linalg.inv(C)\n",
    "inverse"
   ]
  }
 ],
 "metadata": {
  "kernelspec": {
   "display_name": "Python 3",
   "language": "python",
   "name": "python3"
  },
  "language_info": {
   "codemirror_mode": {
    "name": "ipython",
    "version": 3
   },
   "file_extension": ".py",
   "mimetype": "text/x-python",
   "name": "python",
   "nbconvert_exporter": "python",
   "pygments_lexer": "ipython3",
   "version": "3.13.2"
  }
 },
 "nbformat": 4,
 "nbformat_minor": 5
}
